{
 "cells": [
  {
   "cell_type": "code",
   "execution_count": 1,
   "metadata": {},
   "outputs": [],
   "source": [
    "using BenchmarkTools\n",
    "using Distances\n",
    "using NearestNeighborDescent\n",
    "using NearestNeighborDescent: brute_knn, brute_search\n",
    "using PyCall\n",
    "@pyimport pynndescent"
   ]
  },
  {
   "cell_type": "code",
   "execution_count": 2,
   "metadata": {},
   "outputs": [],
   "source": [
    "include(\"./benchutils.jl\");"
   ]
  },
  {
   "cell_type": "code",
   "execution_count": 3,
   "metadata": {},
   "outputs": [
    {
     "data": {
      "text/plain": [
       "bmark (generic function with 1 method)"
      ]
     },
     "execution_count": 3,
     "metadata": {},
     "output_type": "execute_result"
    }
   ],
   "source": [
    "function bmark(name, data, queries, metric)\n",
    "    print(name, \"\\n\")\n",
    "    print(\"Graph construction: \")\n",
    "    knn_graph = @btime DescentGraph($data, 10, $metric)\n",
    "    nn = knn_graph.indices\n",
    "    brute_graph = brute_knn(data, metric, 10)\n",
    "    true_nn = getindex.(brute_graph, 1)\n",
    "    @show recall(nn, true_nn)\n",
    "    true_idx, true_dist = brute_search(data, queries, 10, metric)\n",
    "    idx, dist = search(knn_graph, queries, 10, 5)\n",
    "    @show recall(idx, true_idx)\n",
    "    q_per_sec = length(queries)/(@belapsed search($knn_graph, $queries, 10, 10))\n",
    "    @show q_per_sec\n",
    "    if metric == Euclidean()\n",
    "        pynn_metric = \"euclidean\"\n",
    "    elseif metric == CosineDist()\n",
    "        pynn_metric = \"cosine\"\n",
    "    elseif metric == Hamming()\n",
    "        pynn_metric = \"hamming\"\n",
    "    end\n",
    "    print(\"pynn descent: \")\n",
    "    matrix_data = permutedims(hcat(data...))\n",
    "    pynn_graph = @btime pynndescent.NNDescent($matrix_data, n_neighbors=10, metric=$pynn_metric)\n",
    "    pynn_nn = permutedims(pynn_graph[:_neighbor_graph][1]) .+ 1\n",
    "    @show recall(pynn_nn, true_nn)\n",
    "    matrix_queries = permutedims(hcat(queries...))\n",
    "    pynn_idx, pynn_dists = pynn_graph[:query](matrix_queries, k=10)\n",
    "    pynn_idx = permutedims(pynn_idx) .+ 1\n",
    "    @show recall(pynn_idx, true_idx)\n",
    "    pynn_q_per_sec = length(queries) / (@belapsed $(pynn_graph)[:query]($matrix_queries, k=10))\n",
    "    @show pynn_q_per_sec\n",
    "    return\n",
    "end"
   ]
  },
  {
   "cell_type": "code",
   "execution_count": 4,
   "metadata": {},
   "outputs": [
    {
     "name": "stdout",
     "output_type": "stream",
     "text": [
      "Fashion MNIST\n",
      "Graph construction:   813.979 ms (9802387 allocations: 297.69 MiB)\n",
      "recall(nn, true_nn) = 0.9968200000000003\n",
      "recall(idx, true_idx) = 0.6689999999999997\n",
      "q_per_sec = 2686.769534868554\n",
      "pynn descent:   2.176 s (48 allocations: 2.39 KiB)\n",
      "recall(pynn_nn, true_nn) = 0.8976800000000273\n",
      "recall(pynn_idx, true_idx) = 0.9984\n",
      "pynn_q_per_sec = 5188.155784836761\n"
     ]
    }
   ],
   "source": [
    "bmark(\"Fashion MNIST\", FMNIST_data, FMNIST_queries, Euclidean())"
   ]
  },
  {
   "cell_type": "code",
   "execution_count": 5,
   "metadata": {},
   "outputs": [
    {
     "name": "stdout",
     "output_type": "stream",
     "text": [
      "MNIST\n",
      "Graph construction:   785.094 ms (9385471 allocations: 298.79 MiB)\n",
      "recall(nn, true_nn) = 0.9874000000000002\n",
      "recall(idx, true_idx) = 0.6895999999999997\n",
      "q_per_sec = 2655.151268534629\n",
      "pynn descent:   2.118 s (48 allocations: 2.39 KiB)\n",
      "recall(pynn_nn, true_nn) = 0.89118000000003\n",
      "recall(pynn_idx, true_idx) = 0.9903999999999996\n",
      "pynn_q_per_sec = 5228.639025313086\n"
     ]
    }
   ],
   "source": [
    "bmark(\"MNIST\", MNIST_data, MNIST_queries, Euclidean())"
   ]
  },
  {
   "cell_type": "code",
   "execution_count": 6,
   "metadata": {},
   "outputs": [
    {
     "name": "stdout",
     "output_type": "stream",
     "text": [
      "Cosine Random\n",
      "Graph construction:   1.302 s (19815160 allocations: 565.24 MiB)\n",
      "recall(nn, true_nn) = 0.7393000000000075\n",
      "recall(idx, true_idx) = 0.5287999999999999\n",
      "q_per_sec = 2715.4288019700284\n",
      "pynn descent:   1.233 s (48 allocations: 2.39 KiB)\n",
      "recall(pynn_nn, true_nn) = 0.48460000000000125\n",
      "recall(pynn_idx, true_idx) = 0.7529999999999999\n",
      "pynn_q_per_sec = 10193.210885280976\n"
     ]
    }
   ],
   "source": [
    "# Cosine Tests \n",
    "bmark(\"Cosine Random\", rand_data, rand_queries, CosineDist())"
   ]
  },
  {
   "cell_type": "code",
   "execution_count": 7,
   "metadata": {},
   "outputs": [
    {
     "name": "stdout",
     "output_type": "stream",
     "text": [
      "Hamming Random\n",
      "Graph construction:   628.799 ms (6492427 allocations: 252.12 MiB)\n",
      "recall(nn, true_nn) = 0.127320000000004\n",
      "recall(idx, true_idx) = 0.1564000000000003\n",
      "q_per_sec = 1375.0560844125148\n",
      "pynn descent:   5.878 s (48 allocations: 2.39 KiB)\n",
      "recall(pynn_nn, true_nn) = 0.10702000000000282\n",
      "recall(pynn_idx, true_idx) = 0.186\n",
      "pynn_q_per_sec = 1063.9135896702196\n"
     ]
    }
   ],
   "source": [
    "# Hamming Tests\n",
    "bmark(\"Hamming Random\", ham_data, ham_queries, Hamming())"
   ]
  },
  {
   "cell_type": "code",
   "execution_count": null,
   "metadata": {},
   "outputs": [],
   "source": []
  }
 ],
 "metadata": {
  "kernelspec": {
   "display_name": "Julia 1.0.2",
   "language": "julia",
   "name": "julia-1.0"
  },
  "language_info": {
   "file_extension": ".jl",
   "mimetype": "application/julia",
   "name": "julia",
   "version": "1.0.2"
  }
 },
 "nbformat": 4,
 "nbformat_minor": 2
}
